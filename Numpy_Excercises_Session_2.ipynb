{
  "nbformat": 4,
  "nbformat_minor": 0,
  "metadata": {
    "colab": {
      "name": "Numpy_Excercises_Session_2.ipynb",
      "provenance": [],
      "toc_visible": true,
      "include_colab_link": true
    },
    "kernelspec": {
      "name": "python3",
      "display_name": "Python 3"
    }
  },
  "cells": [
    {
      "cell_type": "markdown",
      "metadata": {
        "id": "view-in-github",
        "colab_type": "text"
      },
      "source": [
        "<a href=\"https://colab.research.google.com/github/juanfcgarcia/data_analysis_challenge/blob/master/Numpy_Excercises_Session_2.ipynb\" target=\"_parent\"><img src=\"https://colab.research.google.com/assets/colab-badge.svg\" alt=\"Open In Colab\"/></a>"
      ]
    },
    {
      "cell_type": "code",
      "metadata": {
        "id": "yZec5gdQULml",
        "colab_type": "code",
        "colab": {}
      },
      "source": [
        "import numpy as np\n",
        "import random"
      ],
      "execution_count": 88,
      "outputs": []
    },
    {
      "cell_type": "markdown",
      "metadata": {
        "id": "ocOTIuRvURnK",
        "colab_type": "text"
      },
      "source": [
        "# Numpy Excercises - Session 2"
      ]
    },
    {
      "cell_type": "markdown",
      "metadata": {
        "id": "zgZNJN1vre4L",
        "colab_type": "text"
      },
      "source": [
        "### Exercise 1\n",
        "\n",
        "Reshape `array1` to 7x3 dimensions."
      ]
    },
    {
      "cell_type": "code",
      "metadata": {
        "id": "GcnNr53nri09",
        "colab_type": "code",
        "colab": {
          "base_uri": "https://localhost:8080/",
          "height": 202
        },
        "outputId": "c277a1b4-48da-4b70-d29e-06d255f22a81"
      },
      "source": [
        "array1 = np.arange(0, 21)\n",
        "print(array1)\n",
        "array1 = np.reshape(array1, (7, 3))\n",
        "print(array1)\n",
        "print(array1[0:3, 0:1])"
      ],
      "execution_count": null,
      "outputs": [
        {
          "output_type": "stream",
          "text": [
            "[ 0  1  2  3  4  5  6  7  8  9 10 11 12 13 14 15 16 17 18 19 20]\n",
            "[[ 0  1  2]\n",
            " [ 3  4  5]\n",
            " [ 6  7  8]\n",
            " [ 9 10 11]\n",
            " [12 13 14]\n",
            " [15 16 17]\n",
            " [18 19 20]]\n",
            "[[0]\n",
            " [3]\n",
            " [6]]\n"
          ],
          "name": "stdout"
        }
      ]
    },
    {
      "cell_type": "markdown",
      "metadata": {
        "id": "LBXx2nR5uOdm",
        "colab_type": "text"
      },
      "source": [
        "### Exercise 2\n",
        "\n",
        "Reshape `array2` into a 3D array of 3x3x3 dimensions."
      ]
    },
    {
      "cell_type": "code",
      "metadata": {
        "id": "-ODB-hFEucck",
        "colab_type": "code",
        "colab": {
          "base_uri": "https://localhost:8080/",
          "height": 202
        },
        "outputId": "e8c1bc97-7b5e-4a81-a0d6-7d7fc3ce2462"
      },
      "source": [
        "array2 = np.arange(0, 27).reshape(9, 3)\n",
        "array2 = np.reshape(array2,(3,3,3))\n",
        "print(array2)"
      ],
      "execution_count": null,
      "outputs": [
        {
          "output_type": "stream",
          "text": [
            "[[[ 0  1  2]\n",
            "  [ 3  4  5]\n",
            "  [ 6  7  8]]\n",
            "\n",
            " [[ 9 10 11]\n",
            "  [12 13 14]\n",
            "  [15 16 17]]\n",
            "\n",
            " [[18 19 20]\n",
            "  [21 22 23]\n",
            "  [24 25 26]]]\n"
          ],
          "name": "stdout"
        }
      ]
    },
    {
      "cell_type": "markdown",
      "metadata": {
        "id": "zjohGksuysL3",
        "colab_type": "text"
      },
      "source": [
        "### Exercise 3: Reshape vs Resize\n",
        "\n",
        "reshape and resize both do the same thin. So, what's the difference?\n",
        "\n",
        "Follow the instructions and find out.\n"
      ]
    },
    {
      "cell_type": "code",
      "metadata": {
        "id": "RMefunZBypgP",
        "colab_type": "code",
        "colab": {
          "base_uri": "https://localhost:8080/",
          "height": 84
        },
        "outputId": "781ba37f-5798-4a0e-d683-b4792961e2bb"
      },
      "source": [
        "# Run this cell without changing the code.\n",
        "array3 = np.arange(0, 9)\n",
        "\n",
        "array3.reshape((3, 3))\n",
        "print(array3)\n",
        "\n",
        "array3.resize((3, 3))\n",
        "print(array3)\n"
      ],
      "execution_count": null,
      "outputs": [
        {
          "output_type": "stream",
          "text": [
            "[0 1 2 3 4 5 6 7 8]\n",
            "[[0 1 2]\n",
            " [3 4 5]\n",
            " [6 7 8]]\n"
          ],
          "name": "stdout"
        }
      ]
    },
    {
      "cell_type": "code",
      "metadata": {
        "id": "ReT0Y4Xo0M7k",
        "colab_type": "code",
        "colab": {}
      },
      "source": [
        "# Question: What is the difference between reshape and resize\n",
        "\n",
        "a = \"resize returns a new copy of the array, while reshape changes the original array\"\n",
        "b = \"reshape returns a new copy of the array, while resize changes the original array\"\n",
        "c = \"both resize and reshape works in the same way with the original array\"\n",
        "\n",
        "Answer: b"
      ],
      "execution_count": null,
      "outputs": []
    },
    {
      "cell_type": "markdown",
      "metadata": {
        "id": "BzXy1g-4wYhJ",
        "colab_type": "text"
      },
      "source": [
        "### Exercise 4\n",
        "\n",
        "Concatenate arrays `a`, `b`, and `c`."
      ]
    },
    {
      "cell_type": "code",
      "metadata": {
        "id": "jEziRUU6wniR",
        "colab_type": "code",
        "colab": {
          "base_uri": "https://localhost:8080/",
          "height": 34
        },
        "outputId": "337af4ad-7d3e-4228-f3ec-f42138dbc57e"
      },
      "source": [
        "a = np.arange(0, 3)\n",
        "b = np.arange(3, 6)\n",
        "c = np.arange(6, 9)\n",
        "\n",
        "array4 = np.concatenate((a, b, c))\n",
        "print(array4)"
      ],
      "execution_count": null,
      "outputs": [
        {
          "output_type": "stream",
          "text": [
            "[0 1 2 3 4 5 6 7 8]\n"
          ],
          "name": "stdout"
        }
      ]
    },
    {
      "cell_type": "markdown",
      "metadata": {
        "id": "UZf-j3DekNJ1",
        "colab_type": "text"
      },
      "source": [
        "### Exercise 5\n",
        "\n",
        "Concatenate arrays `m1` and `m2` vertically."
      ]
    },
    {
      "cell_type": "code",
      "metadata": {
        "id": "zWBry5m0i6Rd",
        "colab_type": "code",
        "colab": {
          "base_uri": "https://localhost:8080/",
          "height": 84
        },
        "outputId": "cff1b316-8736-46ee-eb16-b388f01a3d17"
      },
      "source": [
        "m1 = np.array(\n",
        "    [\n",
        "      [1, 2, 3, 4],\n",
        "      [5, 6, 7, 8]\n",
        "    ]\n",
        ")\n",
        "\n",
        "m2 = np.array(\n",
        "    [\n",
        "      [9, 10, 11, 12],\n",
        "      [13, 14, 15, 16]\n",
        "    ]\n",
        ")\n",
        "\n",
        "array5 = np.concatenate((m1, m2), axis = 0)\n",
        "print(array5)"
      ],
      "execution_count": null,
      "outputs": [
        {
          "output_type": "stream",
          "text": [
            "[[ 1  2  3  4]\n",
            " [ 5  6  7  8]\n",
            " [ 9 10 11 12]\n",
            " [13 14 15 16]]\n"
          ],
          "name": "stdout"
        }
      ]
    },
    {
      "cell_type": "markdown",
      "metadata": {
        "colab_type": "text",
        "id": "4qQ06IZ1k-TG"
      },
      "source": [
        "### Exercise 6\n",
        "\n",
        "Concatenate arrays `m1` and `m2` horizontally."
      ]
    },
    {
      "cell_type": "code",
      "metadata": {
        "colab_type": "code",
        "id": "jsy33sJ7lFN4",
        "colab": {
          "base_uri": "https://localhost:8080/",
          "height": 50
        },
        "outputId": "16abc62e-2ef5-45d7-d8a4-58c036327453"
      },
      "source": [
        "m1 = np.array(\n",
        "    [\n",
        "      [1, 2, 3, 4],\n",
        "      [5, 6, 7, 8]\n",
        "    ]\n",
        ")\n",
        "\n",
        "m2 = np.array(\n",
        "    [\n",
        "      [9, 10, 11, 12],\n",
        "      [13, 14, 15, 16]\n",
        "    ]\n",
        ")\n",
        "\n",
        "array6 = np.concatenate((m1, m2), axis = 1)\n",
        "print(array6)"
      ],
      "execution_count": null,
      "outputs": [
        {
          "output_type": "stream",
          "text": [
            "[[ 1  2  3  4  9 10 11 12]\n",
            " [ 5  6  7  8 13 14 15 16]]\n"
          ],
          "name": "stdout"
        }
      ]
    },
    {
      "cell_type": "markdown",
      "metadata": {
        "id": "EZzFNnxx26iu",
        "colab_type": "text"
      },
      "source": [
        "### Exercise 7\n",
        "\n",
        "Get all the cells with value equals to `0` as a list of tuples.\n"
      ]
    },
    {
      "cell_type": "code",
      "metadata": {
        "id": "-_pITT1w3Mys",
        "colab_type": "code",
        "colab": {
          "base_uri": "https://localhost:8080/",
          "height": 34
        },
        "outputId": "6fb3366b-ad40-4e6f-deb2-4c70799a052b"
      },
      "source": [
        "matrix = np.array([\n",
        "    [1, 4, 7, 5, 0],\n",
        "    [0, 2, 9, 0, 1],\n",
        "    [3, 6, 0, 5, 3],\n",
        "    [7, 3, 0, 1, 0],\n",
        "    [3, 6, 1, 0, 4]\n",
        "])\n",
        "array7 = np.argwhere(matrix == 0)\n",
        "array7 = [tuple(i) for i in array7]\n",
        "print(array7)"
      ],
      "execution_count": null,
      "outputs": [
        {
          "output_type": "stream",
          "text": [
            "[(0, 4), (1, 0), (1, 3), (2, 2), (3, 2), (3, 4), (4, 3)]\n"
          ],
          "name": "stdout"
        }
      ]
    },
    {
      "cell_type": "markdown",
      "metadata": {
        "id": "j15fagt-_9Sv",
        "colab_type": "text"
      },
      "source": [
        "### Exercise 8\n",
        "\n",
        "Check the documentation for `np.diag` and `np.fliplr`. Use them to extract the diagonals arrays for `matrix`.\n",
        "\n"
      ]
    },
    {
      "cell_type": "code",
      "metadata": {
        "id": "0C4VA6H6B0Qn",
        "colab_type": "code",
        "colab": {
          "base_uri": "https://localhost:8080/",
          "height": 118
        },
        "outputId": "bf49b4a8-fa1b-4b06-8655-fccb8eaebc52"
      },
      "source": [
        "diag1 = np.diag(matrix)\n",
        "print(diag1)\n",
        "\n",
        "diag2 = np.fliplr(matrix)\n",
        "print(diag2)"
      ],
      "execution_count": null,
      "outputs": [
        {
          "output_type": "stream",
          "text": [
            "[1 2 0 1 4]\n",
            "[[0 5 7 4 1]\n",
            " [1 0 9 2 0]\n",
            " [3 5 0 6 3]\n",
            " [0 1 0 3 7]\n",
            " [4 0 1 6 3]]\n"
          ],
          "name": "stdout"
        }
      ]
    },
    {
      "cell_type": "markdown",
      "metadata": {
        "id": "-4_ujD9rCCKg",
        "colab_type": "text"
      },
      "source": [
        "### Exercise 9\n",
        "\n",
        "Get the values of the 3th column in `matrix` and the values for the 2th row in `matrix`. Both as numpy arrays.\n"
      ]
    },
    {
      "cell_type": "code",
      "metadata": {
        "id": "75SKt_ydCfCr",
        "colab_type": "code",
        "colab": {
          "base_uri": "https://localhost:8080/",
          "height": 50
        },
        "outputId": "0954e61a-7f85-4b77-b51c-221c50858a4c"
      },
      "source": [
        "column = np.array(matrix[:, 2])\n",
        "print(column)\n",
        "\n",
        "row = np.array(matrix[1,:])\n",
        "print(row)"
      ],
      "execution_count": null,
      "outputs": [
        {
          "output_type": "stream",
          "text": [
            "[7 9 0 0 1]\n",
            "[0 2 9 0 1]\n"
          ],
          "name": "stdout"
        }
      ]
    },
    {
      "cell_type": "markdown",
      "metadata": {
        "id": "FAYxMRG4jJUt",
        "colab_type": "text"
      },
      "source": [
        "## Exercise 10\n",
        "\n",
        "Create a new matrix ***x*** from ***a*** and ***m*** with the folowing structure:\n",
        "\n",
        "\n",
        "\n",
        "```\n",
        "array([[4, 4, 5, 4, 4],\n",
        "       [4, 4, 5, 4, 4],\n",
        "       [4, 4, 5, 4, 4]])\n",
        "```\n",
        "\n"
      ]
    },
    {
      "cell_type": "code",
      "metadata": {
        "id": "n_pobdHRjIVl",
        "colab_type": "code",
        "colab": {
          "base_uri": "https://localhost:8080/",
          "height": 67
        },
        "outputId": "2ab377c7-281f-4887-abed-28cb6b7e3f2b"
      },
      "source": [
        "a = np.full((3, 1), 5)\n",
        "m = np.full((3, 4), 4)\n",
        "\n",
        "x = np.insert(m, 2, a[0], axis = 1)\n",
        "print(x)"
      ],
      "execution_count": null,
      "outputs": [
        {
          "output_type": "stream",
          "text": [
            "[[4 4 5 4 4]\n",
            " [4 4 5 4 4]\n",
            " [4 4 5 4 4]]\n"
          ],
          "name": "stdout"
        }
      ]
    },
    {
      "cell_type": "markdown",
      "metadata": {
        "id": "5FkJzPeGAZMv",
        "colab_type": "text"
      },
      "source": [
        "## Exercise 11\n",
        "\n",
        "Given a:\n",
        "\n",
        "```\n",
        "a = array([[1],\n",
        "       [1],\n",
        "       [2],\n",
        "       [4]])\n",
        "```\n",
        "\n",
        "Create a new array **b** with the following structure:\n",
        "\n",
        "```\n",
        "np.array([\n",
        "  [1, 0, 0],\n",
        "  [1, 0, 0],\n",
        "  [0, 1, 0],\n",
        "  [0, 0, 1],\n",
        "])\n",
        "```\n",
        "Do you detect the pattern? Which operation do you need to create this structure.?\n",
        "\n",
        "\n"
      ]
    },
    {
      "cell_type": "code",
      "metadata": {
        "id": "FqBLf9h6AdRo",
        "colab_type": "code",
        "colab": {
          "base_uri": "https://localhost:8080/",
          "height": 84
        },
        "outputId": "5e9c0e55-a4bb-48ad-fa04-0b0348886f70"
      },
      "source": [
        "#Answer: a contains the positions in which 1 is inserted, the maximum number \n",
        "#is the number of columns, also a constains 4 elements so we will have 4 rows\n",
        "#in this case we will have\n",
        "# [[1. 0. 0. 0.]\n",
        "# [1. 0. 0. 0.]\n",
        "# [0. 1. 0. 0.]\n",
        "# [0. 0. 0. 1.]]\n",
        "#now we need delete the column 2 and will have the structure seen above\n",
        "\n",
        "array = np.array([[1], [1], [2], [4]])\n",
        "shape = (array.size, arr.max())\n",
        "b = np.zeros(shape)\n",
        "rows = np.arange(array.size)\n",
        "\n",
        "for h in range(len(array)):\n",
        "    b[h, array[h] - 1] = 1\n",
        "\n",
        "b = np.delete(b, 2, 1)\n",
        "print(b)"
      ],
      "execution_count": null,
      "outputs": [
        {
          "output_type": "stream",
          "text": [
            "[[1. 0. 0.]\n",
            " [1. 0. 0.]\n",
            " [0. 1. 0.]\n",
            " [0. 0. 1.]]\n"
          ],
          "name": "stdout"
        }
      ]
    },
    {
      "cell_type": "markdown",
      "metadata": {
        "id": "ZRGKiKtAw-NO",
        "colab_type": "text"
      },
      "source": [
        "# Challenge, Tic Tac Toe\n"
      ]
    },
    {
      "cell_type": "code",
      "metadata": {
        "id": "zXFw_11UxFYb",
        "colab_type": "code",
        "colab": {}
      },
      "source": [
        "cell = {\n",
        "    0: ' ',\n",
        "    1: 'X',\n",
        "    2: 'O'\n",
        "}\n",
        "\n",
        "winner = False\n",
        "\n",
        "def print_board():\n",
        "  print('-------------')\n",
        "  print(f'| {cell[game[0][0]]} | {cell[game[0][1]]} | {cell[game[0][2]]} |')\n",
        "  print('-------------')\n",
        "  print(f'| {cell[game[1][0]]} | {cell[game[1][1]]} | {cell[game[1][2]]} |')\n",
        "  print('-------------')\n",
        "  print(f'| {cell[game[2][0]]} | {cell[game[2][1]]} | {cell[game[2][2]]} |')\n",
        "  print('-------------')\n",
        "\n",
        "def skynet_move():\n",
        "  # Select a random empty cell in `game` array and set with value `2`.\n",
        "  # If no empty cells available, do nothing.\n",
        "  possibilities = np.argwhere(game == 0)\n",
        "  if possibilities.size > 0:\n",
        "    select = possibilities[np.random.randint(0, possibilities.size/2, size = 1)]\n",
        "    game[select[0][0]][select[0][1]] = 2\n",
        "\n",
        "def verify_col(game_array):\n",
        "  for elem in range(0,3):\n",
        "      inspector = np.array(game_array[:, elem])\n",
        "      if np.all(inspector == inspector[0]) and inspector[0] != 0:\n",
        "         return True\n",
        "    \n",
        "\n",
        "def verify_row(game_array):\n",
        "  for elem in range(0,3):\n",
        "      inspector = np.array(game_array[elem,:])\n",
        "      if np.all(inspector == inspector[0]) and inspector[0] != 0:\n",
        "          return True\n",
        "\n",
        "def verify_diag(diago):\n",
        "  if np.all(diago == diago[0]) and diago[0] != 0:\n",
        "          return True\n",
        "\n",
        "def win_move(player, r, c):\n",
        "  # Check if the player's move is a win move.\n",
        "  # A win move meets one of these conditions:\n",
        "  #   - All values at row `r` are equal to `player`.\n",
        "  #   - All values at column `c` are equal to `player`.\n",
        "  #   - All values at main diagonal ((0, 0) to (2, 2)) are equal to  `player`.\n",
        "  #   - All values at second diagonal ((2, 0) to (0, 2)) are equal to  `player`.\n",
        "  # Return True if one of the conditions are met, False otherwise.\n",
        "  state = False\n",
        "  diag_left = np.diag(game)\n",
        "  diag_right = np.diag(np.fliplr(game))\n",
        "\n",
        "  if verify_col(game) or verify_row(game) or verify_diag(diag_left) or verify_diag(diag_right):\n",
        "      state = True\n",
        "      winner = True\n",
        "\n",
        "  return state\n",
        "\n",
        "def human_move(r, c):\n",
        "  # Set value `1` at game[r][c] if the cell if empty and return True.\n",
        "  # If cell is not empty print \"Cell is not empty\" and return False.\n",
        "  if game[r][c] == 0:\n",
        "    game[r][c] = 1\n",
        "    return True\n",
        "  else:\n",
        "    print(\"Cell is not empty\")\n",
        "    return False\n",
        "\n",
        "def winner_exists(winner_n):\n",
        "  # If one of the players has already won the game, return True.\n",
        "  # Return False otherwise.\n",
        "  if winner_n:\n",
        "    return True\n",
        "  else:\n",
        "    return False\n",
        "\n",
        "\n",
        "def is_game_on():\n",
        "  # This method checks the current status of the game.\n",
        "  # A game is on if meets one of two conditios:\n",
        "  #  - There is still available cells.\n",
        "  #  - There is still no winners.  \n",
        "  if np.sum(game == 0) > 0 or winner_exists(winner) == False:\n",
        "    return True\n",
        "  "
      ],
      "execution_count": 87,
      "outputs": []
    },
    {
      "cell_type": "code",
      "metadata": {
        "id": "wmWZQJFA2Hl5",
        "colab_type": "code",
        "colab": {
          "base_uri": "https://localhost:8080/",
          "height": 67
        },
        "outputId": "37663472-3c4c-4e16-db72-59074ed1a790"
      },
      "source": [
        "# Run this cell to restart the game.\n",
        "\n",
        "# Create a 3x3 array with zero values.\n",
        "game = np.zeros((3, 3), dtype = int)\n",
        "print(game)"
      ],
      "execution_count": 81,
      "outputs": [
        {
          "output_type": "stream",
          "text": [
            "[[0 0 0]\n",
            " [0 0 0]\n",
            " [0 0 0]]\n"
          ],
          "name": "stdout"
        }
      ]
    },
    {
      "cell_type": "code",
      "metadata": {
        "id": "ErKaf7bw2X2Z",
        "colab_type": "code",
        "cellView": "both",
        "colab": {
          "base_uri": "https://localhost:8080/",
          "height": 151
        },
        "outputId": "e9b4fa0b-2553-4a3c-fa18-cc43afdda409"
      },
      "source": [
        "#@title Tic tac toe controls\n",
        "#@markdown Select the cell for your next move!.\n",
        "row_value = \"1\" #@param [\"0\", \"1\", \"2\"] \n",
        "column_value = \"0\" #@param [\"0\", \"1\", \"2\"]\n",
        "\n",
        "row = int(row_value)\n",
        "column = int(column_value)\n",
        "if(is_game_on()):\n",
        "  status = human_move(row, column)\n",
        "  if(win_move(1, row, column)):\n",
        "    print('Human wins')\n",
        "  elif(status):\n",
        "    skynet_move()\n",
        "    if(win_move(2, row, column)):\n",
        "      print('Skynet wins')\n",
        "else:\n",
        "  print('Game over.')\n",
        "  \n",
        "print_board()"
      ],
      "execution_count": 85,
      "outputs": [
        {
          "output_type": "stream",
          "text": [
            "Skynet wins\n",
            "-------------\n",
            "| O | O | O |\n",
            "-------------\n",
            "| X | O | X |\n",
            "-------------\n",
            "|   | X | X |\n",
            "-------------\n"
          ],
          "name": "stdout"
        }
      ]
    },
    {
      "cell_type": "markdown",
      "metadata": {
        "id": "2Gl4XHf6JN24",
        "colab_type": "text"
      },
      "source": [
        "# Challenge: Basic data analysis\n",
        "\n",
        "The following numpy array is taken from the a census dataset. Every column in this matrix contains some demografic information. For this exercise You will focus in the following columns:\n",
        "\n",
        "*   Column[0]: Age\n",
        "*   Column[1]: workclass\n",
        "*   Column[3]: education\n",
        "*   Column[5]: marital-status\n",
        "*   Column[9]: sex\n",
        "*   Column[10]: capital-gain\n",
        "\n",
        "Please find the following information:\n",
        "\n",
        "\n",
        "*   Age average\n",
        "*   Types of workclass, education and marital-status\n",
        "*   How many records are for male\n",
        "*   How many records are for female\n",
        "*   How many females are above age of 30\n",
        "*   Avergage of capital-gain for males\n",
        "*   Avergage of capital-gain for females\n",
        "\n",
        "\n",
        "\n",
        "\n",
        "\n"
      ]
    },
    {
      "cell_type": "code",
      "metadata": {
        "id": "6deAST4wJiHf",
        "colab_type": "code",
        "colab": {
          "base_uri": "https://localhost:8080/",
          "height": 151
        },
        "outputId": "ad8a7ed5-5be0-4cc7-8a34-ac221f0aad2f"
      },
      "source": [
        "# First upload file \"census.npy\" befor running this cell.\n",
        "with open('/census.npy', 'rb') as f:\n",
        "  census_data = np.load(f, allow_pickle=True)\n",
        "print(census_data)\n",
        "type(census_data)"
      ],
      "execution_count": null,
      "outputs": [
        {
          "output_type": "stream",
          "text": [
            "[[50 ' Self-emp-not-inc' 83311 ... 13 ' United-States' ' <=50K']\n",
            " [38 ' Private' 215646 ... 40 ' United-States' ' <=50K']\n",
            " [53 ' Private' 234721 ... 40 ' United-States' ' <=50K']\n",
            " ...\n",
            " [58 ' Private' 151910 ... 40 ' United-States' ' <=50K']\n",
            " [22 ' Private' 201490 ... 20 ' United-States' ' <=50K']\n",
            " [52 ' Self-emp-inc' 287927 ... 40 ' United-States' ' >50K']]\n"
          ],
          "name": "stdout"
        },
        {
          "output_type": "execute_result",
          "data": {
            "text/plain": [
              "numpy.ndarray"
            ]
          },
          "metadata": {
            "tags": []
          },
          "execution_count": 196
        }
      ]
    },
    {
      "cell_type": "code",
      "metadata": {
        "id": "BlJ5YyL9QGEH",
        "colab_type": "code",
        "colab": {
          "base_uri": "https://localhost:8080/",
          "height": 50
        },
        "outputId": "ec1de10a-ac0a-43f6-ae30-5ac2f0ab2774"
      },
      "source": [
        "#Ave average\n",
        "print(census_data[:,0])\n",
        "np.mean(census_data[:,0])"
      ],
      "execution_count": null,
      "outputs": [
        {
          "output_type": "stream",
          "text": [
            "[50 38 53 ... 58 22 52]\n"
          ],
          "name": "stdout"
        },
        {
          "output_type": "execute_result",
          "data": {
            "text/plain": [
              "38.581633906633904"
            ]
          },
          "metadata": {
            "tags": []
          },
          "execution_count": 197
        }
      ]
    },
    {
      "cell_type": "code",
      "metadata": {
        "id": "0aHyyNbzaORV",
        "colab_type": "code",
        "colab": {
          "base_uri": "https://localhost:8080/",
          "height": 218
        },
        "outputId": "45b7a967-4185-4515-b762-9812578b9f7e"
      },
      "source": [
        "#Types of workclass, education and marital-status\n",
        "print(\"workclass types:\")\n",
        "print(np.unique(census_data[:,1]))\n",
        "print(\"---------------\")\n",
        "print(\"education types:\")\n",
        "print(np.unique(census_data[:,3]))\n",
        "print(\"---------------\")\n",
        "print(\"marital types:\")\n",
        "print(np.unique(census_data[:,5]))"
      ],
      "execution_count": null,
      "outputs": [
        {
          "output_type": "stream",
          "text": [
            "workclass types:\n",
            "[' ?' ' Federal-gov' ' Local-gov' ' Never-worked' ' Private'\n",
            " ' Self-emp-inc' ' Self-emp-not-inc' ' State-gov' ' Without-pay']\n",
            "---------------\n",
            "education types:\n",
            "[' 10th' ' 11th' ' 12th' ' 1st-4th' ' 5th-6th' ' 7th-8th' ' 9th'\n",
            " ' Assoc-acdm' ' Assoc-voc' ' Bachelors' ' Doctorate' ' HS-grad'\n",
            " ' Masters' ' Preschool' ' Prof-school' ' Some-college']\n",
            "---------------\n",
            "marital types:\n",
            "[' Divorced' ' Married-AF-spouse' ' Married-civ-spouse'\n",
            " ' Married-spouse-absent' ' Never-married' ' Separated' ' Widowed']\n"
          ],
          "name": "stdout"
        }
      ]
    },
    {
      "cell_type": "code",
      "metadata": {
        "id": "9ikYBbMDutk9",
        "colab_type": "code",
        "colab": {
          "base_uri": "https://localhost:8080/",
          "height": 34
        },
        "outputId": "d40ee58b-ddf1-4ff8-e8e0-2ce0f1101472"
      },
      "source": [
        "#How many records are for male\n",
        "np.sum(census_data[:,9] == ' Male')"
      ],
      "execution_count": null,
      "outputs": [
        {
          "output_type": "execute_result",
          "data": {
            "text/plain": [
              "21789"
            ]
          },
          "metadata": {
            "tags": []
          },
          "execution_count": 199
        }
      ]
    },
    {
      "cell_type": "code",
      "metadata": {
        "id": "aoF96R-o-yUr",
        "colab_type": "code",
        "colab": {
          "base_uri": "https://localhost:8080/",
          "height": 34
        },
        "outputId": "5ddf2d39-5066-48a6-b86c-5e6c03d62db8"
      },
      "source": [
        "#How many records are for female\n",
        "np.sum(census_data[:,9] == ' Female')"
      ],
      "execution_count": null,
      "outputs": [
        {
          "output_type": "execute_result",
          "data": {
            "text/plain": [
              "10771"
            ]
          },
          "metadata": {
            "tags": []
          },
          "execution_count": 200
        }
      ]
    },
    {
      "cell_type": "code",
      "metadata": {
        "id": "3jbZ6It9AIK8",
        "colab_type": "code",
        "colab": {
          "base_uri": "https://localhost:8080/",
          "height": 34
        },
        "outputId": "7c23a435-4437-4ca3-b2f8-ce6cd09190a1"
      },
      "source": [
        "#How many females are above age of 30\n",
        "census_data[(census_data[:,9] == ' Female') & (census_data[:,0] > 30)][:,0].size"
      ],
      "execution_count": null,
      "outputs": [
        {
          "output_type": "execute_result",
          "data": {
            "text/plain": [
              "6512"
            ]
          },
          "metadata": {
            "tags": []
          },
          "execution_count": 201
        }
      ]
    },
    {
      "cell_type": "code",
      "metadata": {
        "id": "y5wO67R6GwYl",
        "colab_type": "code",
        "colab": {
          "base_uri": "https://localhost:8080/",
          "height": 34
        },
        "outputId": "e2b11811-f4cf-4858-ba83-59f454c3a279"
      },
      "source": [
        "#Avergage of capital-gain for males\n",
        "np.mean(census_data[(census_data[:,9] == ' Male')][:,10])"
      ],
      "execution_count": null,
      "outputs": [
        {
          "output_type": "execute_result",
          "data": {
            "text/plain": [
              "1329.3313139657625"
            ]
          },
          "metadata": {
            "tags": []
          },
          "execution_count": 202
        }
      ]
    },
    {
      "cell_type": "code",
      "metadata": {
        "id": "4M_bb4gRTPfj",
        "colab_type": "code",
        "colab": {
          "base_uri": "https://localhost:8080/",
          "height": 34
        },
        "outputId": "a0412794-6fb5-46c4-bb2e-41a48d1d7cad"
      },
      "source": [
        "#Avergage of capital-gain for females\n",
        "np.mean(census_data[(census_data[:,9] == ' Female')][:,10])"
      ],
      "execution_count": null,
      "outputs": [
        {
          "output_type": "execute_result",
          "data": {
            "text/plain": [
              "568.4105468387336"
            ]
          },
          "metadata": {
            "tags": []
          },
          "execution_count": 203
        }
      ]
    }
  ]
}