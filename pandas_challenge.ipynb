{
  "nbformat": 4,
  "nbformat_minor": 0,
  "metadata": {
    "colab": {
      "name": "pandas_challenge.ipynb",
      "provenance": [],
      "collapsed_sections": [],
      "authorship_tag": "ABX9TyN+O5E5vrN/IJ1AFADPP0IH",
      "include_colab_link": true
    },
    "kernelspec": {
      "name": "python3",
      "display_name": "Python 3"
    }
  },
  "cells": [
    {
      "cell_type": "markdown",
      "metadata": {
        "id": "view-in-github",
        "colab_type": "text"
      },
      "source": [
        "<a href=\"https://colab.research.google.com/github/juanfcgarcia/data_analysis_challenge/blob/master/pandas_challenge.ipynb\" target=\"_parent\"><img src=\"https://colab.research.google.com/assets/colab-badge.svg\" alt=\"Open In Colab\"/></a>"
      ]
    },
    {
      "cell_type": "code",
      "metadata": {
        "id": "v6GlRXZyS8-a",
        "colab_type": "code",
        "colab": {}
      },
      "source": [
        "import pandas as pd\n",
        "import numpy as np"
      ],
      "execution_count": null,
      "outputs": []
    },
    {
      "cell_type": "markdown",
      "metadata": {
        "id": "lHlsDkdlr3pF",
        "colab_type": "text"
      },
      "source": [
        "Cargar el archivo anime.csv como dataframe"
      ]
    },
    {
      "cell_type": "code",
      "metadata": {
        "id": "Y4KmoKC0Zx6Q",
        "colab_type": "code",
        "colab": {
          "base_uri": "https://localhost:8080/",
          "height": 758
        },
        "outputId": "9dd82221-9d42-4ede-9678-31078bef2e9b"
      },
      "source": [
        "url = 'https://raw.githubusercontent.com/juanfcgarcia/pandas_challenge/master/anime.csv'\n",
        "df = pd.read_csv(url)\n",
        "df"
      ],
      "execution_count": null,
      "outputs": [
        {
          "output_type": "execute_result",
          "data": {
            "text/html": [
              "<div>\n",
              "<style scoped>\n",
              "    .dataframe tbody tr th:only-of-type {\n",
              "        vertical-align: middle;\n",
              "    }\n",
              "\n",
              "    .dataframe tbody tr th {\n",
              "        vertical-align: top;\n",
              "    }\n",
              "\n",
              "    .dataframe thead th {\n",
              "        text-align: right;\n",
              "    }\n",
              "</style>\n",
              "<table border=\"1\" class=\"dataframe\">\n",
              "  <thead>\n",
              "    <tr style=\"text-align: right;\">\n",
              "      <th></th>\n",
              "      <th>_id</th>\n",
              "      <th>anime_id</th>\n",
              "      <th>c1</th>\n",
              "      <th>c2</th>\n",
              "      <th>episodes</th>\n",
              "      <th>genre</th>\n",
              "      <th>img</th>\n",
              "      <th>main_cast</th>\n",
              "      <th>members</th>\n",
              "      <th>name</th>\n",
              "      <th>rating</th>\n",
              "      <th>source</th>\n",
              "      <th>studios</th>\n",
              "      <th>type</th>\n",
              "    </tr>\n",
              "  </thead>\n",
              "  <tbody>\n",
              "    <tr>\n",
              "      <th>0</th>\n",
              "      <td>589eac5f1bc3ae2c788af112</td>\n",
              "      <td>32281</td>\n",
              "      <td>40</td>\n",
              "      <td>1</td>\n",
              "      <td>1</td>\n",
              "      <td>Drama,Romance,School,Supernatural</td>\n",
              "      <td>https://myanimelist.cdn-dena.com/images/anime/...</td>\n",
              "      <td>Kamishiraishi,Mone;Kamiki,Ryunosuke</td>\n",
              "      <td>200630</td>\n",
              "      <td>Kimi no Na wa.</td>\n",
              "      <td>9.37</td>\n",
              "      <td>Original</td>\n",
              "      <td>CoMix Wave Films</td>\n",
              "      <td>Movie</td>\n",
              "    </tr>\n",
              "    <tr>\n",
              "      <th>1</th>\n",
              "      <td>589eac5f1bc3ae2c788af113</td>\n",
              "      <td>5114</td>\n",
              "      <td>16</td>\n",
              "      <td>1</td>\n",
              "      <td>64</td>\n",
              "      <td>Action,Adventure,Drama,Fantasy,Magic,Military,...</td>\n",
              "      <td>https://myanimelist.cdn-dena.com/images/anime/...</td>\n",
              "      <td>Kugimiya,Rie;Park,Romi</td>\n",
              "      <td>793665</td>\n",
              "      <td>Fullmetal Alchemist: Brotherhood</td>\n",
              "      <td>9.26</td>\n",
              "      <td>Manga</td>\n",
              "      <td>Bones</td>\n",
              "      <td>TV</td>\n",
              "    </tr>\n",
              "    <tr>\n",
              "      <th>2</th>\n",
              "      <td>589eac5f1bc3ae2c788af114</td>\n",
              "      <td>28977</td>\n",
              "      <td>26</td>\n",
              "      <td>3</td>\n",
              "      <td>51</td>\n",
              "      <td>Action,Comedy,Historical,Parody,Samurai,Sci-Fi...</td>\n",
              "      <td>https://myanimelist.cdn-dena.com/images/anime/...</td>\n",
              "      <td>Kugimiya,Rie;Ishii,Kouji;Sugita,Tomokazu;Tomat...</td>\n",
              "      <td>114262</td>\n",
              "      <td>Gintama°</td>\n",
              "      <td>9.25</td>\n",
              "      <td>Manga</td>\n",
              "      <td>Bandai Namco Pictures</td>\n",
              "      <td>TV</td>\n",
              "    </tr>\n",
              "    <tr>\n",
              "      <th>3</th>\n",
              "      <td>589eac5f1bc3ae2c788af115</td>\n",
              "      <td>9253</td>\n",
              "      <td>18</td>\n",
              "      <td>19</td>\n",
              "      <td>24</td>\n",
              "      <td>Sci-Fi,Thriller</td>\n",
              "      <td>https://myanimelist.cdn-dena.com/images/anime/...</td>\n",
              "      <td>Seki,Tomokazu;Imai,Asami;Miyano,Mamoru;Hanazaw...</td>\n",
              "      <td>673572</td>\n",
              "      <td>Steins;Gate</td>\n",
              "      <td>9.17</td>\n",
              "      <td>Visualnovel</td>\n",
              "      <td>White Fox</td>\n",
              "      <td>TV</td>\n",
              "    </tr>\n",
              "    <tr>\n",
              "      <th>4</th>\n",
              "      <td>589eac5f1bc3ae2c788af116</td>\n",
              "      <td>9969</td>\n",
              "      <td>26</td>\n",
              "      <td>1</td>\n",
              "      <td>51</td>\n",
              "      <td>Action,Comedy,Historical,Parody,Samurai,Sci-Fi...</td>\n",
              "      <td>https://myanimelist.cdn-dena.com/images/anime/...</td>\n",
              "      <td>Kugimiya,Rie;Sugita,Tomokazu;Sakaguchi,Daisuke</td>\n",
              "      <td>151266</td>\n",
              "      <td>Gintama&amp;#039;</td>\n",
              "      <td>9.16</td>\n",
              "      <td>Manga</td>\n",
              "      <td>Sunrise</td>\n",
              "      <td>TV</td>\n",
              "    </tr>\n",
              "    <tr>\n",
              "      <th>...</th>\n",
              "      <td>...</td>\n",
              "      <td>...</td>\n",
              "      <td>...</td>\n",
              "      <td>...</td>\n",
              "      <td>...</td>\n",
              "      <td>...</td>\n",
              "      <td>...</td>\n",
              "      <td>...</td>\n",
              "      <td>...</td>\n",
              "      <td>...</td>\n",
              "      <td>...</td>\n",
              "      <td>...</td>\n",
              "      <td>...</td>\n",
              "      <td>...</td>\n",
              "    </tr>\n",
              "    <tr>\n",
              "      <th>12206</th>\n",
              "      <td>589eb0311bc3ae2c788b20c0</td>\n",
              "      <td>9316</td>\n",
              "      <td>13</td>\n",
              "      <td>1</td>\n",
              "      <td>1</td>\n",
              "      <td>Hentai</td>\n",
              "      <td>https://myanimelist.cdn-dena.com/images/anime/...</td>\n",
              "      <td>NaN</td>\n",
              "      <td>211</td>\n",
              "      <td>Toushindai My Lover: Minami tai Mecha-Minami</td>\n",
              "      <td>4.15</td>\n",
              "      <td>NaN</td>\n",
              "      <td>NaN</td>\n",
              "      <td>OVA</td>\n",
              "    </tr>\n",
              "    <tr>\n",
              "      <th>12207</th>\n",
              "      <td>589eb0311bc3ae2c788b20c1</td>\n",
              "      <td>5543</td>\n",
              "      <td>13</td>\n",
              "      <td>1</td>\n",
              "      <td>1</td>\n",
              "      <td>Hentai</td>\n",
              "      <td>https://myanimelist.cdn-dena.com/images/anime/...</td>\n",
              "      <td>NaN</td>\n",
              "      <td>183</td>\n",
              "      <td>Under World</td>\n",
              "      <td>4.28</td>\n",
              "      <td>NaN</td>\n",
              "      <td>NaN</td>\n",
              "      <td>OVA</td>\n",
              "    </tr>\n",
              "    <tr>\n",
              "      <th>12208</th>\n",
              "      <td>589eb0311bc3ae2c788b20c2</td>\n",
              "      <td>5621</td>\n",
              "      <td>13</td>\n",
              "      <td>1</td>\n",
              "      <td>4</td>\n",
              "      <td>Hentai</td>\n",
              "      <td>https://myanimelist.cdn-dena.com/images/anime/...</td>\n",
              "      <td>NaN</td>\n",
              "      <td>219</td>\n",
              "      <td>Violence Gekiga David no Hoshi</td>\n",
              "      <td>4.88</td>\n",
              "      <td>NaN</td>\n",
              "      <td>NaN</td>\n",
              "      <td>OVA</td>\n",
              "    </tr>\n",
              "    <tr>\n",
              "      <th>12209</th>\n",
              "      <td>589eb0311bc3ae2c788b20c3</td>\n",
              "      <td>6133</td>\n",
              "      <td>13</td>\n",
              "      <td>1</td>\n",
              "      <td>1</td>\n",
              "      <td>Hentai</td>\n",
              "      <td>https://myanimelist.cdn-dena.com/images/anime/...</td>\n",
              "      <td>NaN</td>\n",
              "      <td>175</td>\n",
              "      <td>Violence Gekiga Shin David no Hoshi: Inma Dens...</td>\n",
              "      <td>4.98</td>\n",
              "      <td>NaN</td>\n",
              "      <td>NaN</td>\n",
              "      <td>OVA</td>\n",
              "    </tr>\n",
              "    <tr>\n",
              "      <th>12210</th>\n",
              "      <td>589eb0311bc3ae2c788b20c4</td>\n",
              "      <td>26081</td>\n",
              "      <td>13</td>\n",
              "      <td>1</td>\n",
              "      <td>1</td>\n",
              "      <td>Hentai</td>\n",
              "      <td>https://myanimelist.cdn-dena.com/images/anime/...</td>\n",
              "      <td>NaN</td>\n",
              "      <td>142</td>\n",
              "      <td>Yasuji no Pornorama: Yacchimae!!</td>\n",
              "      <td>5.46</td>\n",
              "      <td>NaN</td>\n",
              "      <td>NaN</td>\n",
              "      <td>Movie</td>\n",
              "    </tr>\n",
              "  </tbody>\n",
              "</table>\n",
              "<p>12211 rows × 14 columns</p>\n",
              "</div>"
            ],
            "text/plain": [
              "                            _id  anime_id  ...                studios   type\n",
              "0      589eac5f1bc3ae2c788af112     32281  ...       CoMix Wave Films  Movie\n",
              "1      589eac5f1bc3ae2c788af113      5114  ...                  Bones     TV\n",
              "2      589eac5f1bc3ae2c788af114     28977  ...  Bandai Namco Pictures     TV\n",
              "3      589eac5f1bc3ae2c788af115      9253  ...              White Fox     TV\n",
              "4      589eac5f1bc3ae2c788af116      9969  ...                Sunrise     TV\n",
              "...                         ...       ...  ...                    ...    ...\n",
              "12206  589eb0311bc3ae2c788b20c0      9316  ...                    NaN    OVA\n",
              "12207  589eb0311bc3ae2c788b20c1      5543  ...                    NaN    OVA\n",
              "12208  589eb0311bc3ae2c788b20c2      5621  ...                    NaN    OVA\n",
              "12209  589eb0311bc3ae2c788b20c3      6133  ...                    NaN    OVA\n",
              "12210  589eb0311bc3ae2c788b20c4     26081  ...                    NaN  Movie\n",
              "\n",
              "[12211 rows x 14 columns]"
            ]
          },
          "metadata": {
            "tags": []
          },
          "execution_count": 104
        }
      ]
    },
    {
      "cell_type": "markdown",
      "metadata": {
        "id": "iJdIc1VIr_e_",
        "colab_type": "text"
      },
      "source": [
        "Reemplazar los valores nulos segun su tipo, los numericos por el promedio de la Columna y los strings por 'none'"
      ]
    },
    {
      "cell_type": "code",
      "metadata": {
        "id": "IknFXnJsSna9",
        "colab_type": "code",
        "colab": {
          "base_uri": "https://localhost:8080/",
          "height": 269
        },
        "outputId": "8c68b848-9f20-483b-b1d8-72ff3f38734c"
      },
      "source": [
        "#Se puede ver que en los campos de tipo numerico (c1, c2, episodes, members, rating) no existe ningun dato null\n",
        "df.isnull().sum()"
      ],
      "execution_count": null,
      "outputs": [
        {
          "output_type": "execute_result",
          "data": {
            "text/plain": [
              "_id             0\n",
              "anime_id        0\n",
              "c1              0\n",
              "c2              0\n",
              "episodes        0\n",
              "genre          57\n",
              "img             0\n",
              "main_cast    5100\n",
              "members         0\n",
              "name            0\n",
              "rating          0\n",
              "source       4618\n",
              "studios      4804\n",
              "type           22\n",
              "dtype: int64"
            ]
          },
          "metadata": {
            "tags": []
          },
          "execution_count": 63
        }
      ]
    },
    {
      "cell_type": "code",
      "metadata": {
        "id": "4Qz6qtDVLvSC",
        "colab_type": "code",
        "colab": {
          "base_uri": "https://localhost:8080/",
          "height": 269
        },
        "outputId": "14658375-fea5-4782-b1dd-a96a0ecfdb23"
      },
      "source": [
        "num_columns = np.array(['c1','c2', 'episodes', 'members', 'rating'])\n",
        "df[num_columns] = df[num_columns].replace(np.nan, df[num_columns].mean())\n",
        "\n",
        "df.fillna('none', inplace=True)\n",
        "df.isnull().sum()"
      ],
      "execution_count": null,
      "outputs": [
        {
          "output_type": "execute_result",
          "data": {
            "text/plain": [
              "_id          0\n",
              "anime_id     0\n",
              "c1           0\n",
              "c2           0\n",
              "episodes     0\n",
              "genre        0\n",
              "img          0\n",
              "main_cast    0\n",
              "members      0\n",
              "name         0\n",
              "rating       0\n",
              "source       0\n",
              "studios      0\n",
              "type         0\n",
              "dtype: int64"
            ]
          },
          "metadata": {
            "tags": []
          },
          "execution_count": 102
        }
      ]
    },
    {
      "cell_type": "markdown",
      "metadata": {
        "id": "bu-73KeqvQTV",
        "colab_type": "text"
      },
      "source": [
        "Obtener suma todal de 'members'"
      ]
    },
    {
      "cell_type": "code",
      "metadata": {
        "id": "WmkM_RtOvUFs",
        "colab_type": "code",
        "colab": {
          "base_uri": "https://localhost:8080/",
          "height": 34
        },
        "outputId": "d82f70df-4e02-4543-bba7-df3de42edcf1"
      },
      "source": [
        "total_members = df['members'].sum()\n",
        "print(total_members)"
      ],
      "execution_count": null,
      "outputs": [
        {
          "output_type": "stream",
          "text": [
            "222162380\n"
          ],
          "name": "stdout"
        }
      ]
    },
    {
      "cell_type": "markdown",
      "metadata": {
        "id": "VkUHO1phxmhy",
        "colab_type": "text"
      },
      "source": [
        "Obtener el rating promedio de cada tipo de serie"
      ]
    },
    {
      "cell_type": "code",
      "metadata": {
        "id": "D-6UVCoFxqGc",
        "colab_type": "code",
        "colab": {
          "base_uri": "https://localhost:8080/",
          "height": 168
        },
        "outputId": "4862b5bf-c37d-47c7-8d0f-a034996cf983"
      },
      "source": [
        "df.groupby('type')['rating'].mean()"
      ],
      "execution_count": null,
      "outputs": [
        {
          "output_type": "execute_result",
          "data": {
            "text/plain": [
              "type\n",
              "Movie      6.159560\n",
              "Music      5.588996\n",
              "ONA        5.572731\n",
              "OVA        6.314707\n",
              "Special    6.499096\n",
              "TV         6.662497\n",
              "none      -1.000000\n",
              "Name: rating, dtype: float64"
            ]
          },
          "metadata": {
            "tags": []
          },
          "execution_count": 71
        }
      ]
    },
    {
      "cell_type": "markdown",
      "metadata": {
        "id": "3qlsq2p73hzv",
        "colab_type": "text"
      },
      "source": [
        "Obtener el maximo rating de series con genero 'Music'"
      ]
    },
    {
      "cell_type": "code",
      "metadata": {
        "id": "P05m3dWg3k1f",
        "colab_type": "code",
        "colab": {
          "base_uri": "https://localhost:8080/",
          "height": 168
        },
        "outputId": "9b9566ae-0efd-4256-bbd1-1b526cdfe285"
      },
      "source": [
        "df.groupby('type')['rating'].max()"
      ],
      "execution_count": null,
      "outputs": [
        {
          "output_type": "execute_result",
          "data": {
            "text/plain": [
              "type\n",
              "Movie      10.00\n",
              "Music       8.38\n",
              "ONA         8.26\n",
              "OVA         9.25\n",
              "Special     8.66\n",
              "TV          9.60\n",
              "none       -1.00\n",
              "Name: rating, dtype: float64"
            ]
          },
          "metadata": {
            "tags": []
          },
          "execution_count": 74
        }
      ]
    },
    {
      "cell_type": "code",
      "metadata": {
        "id": "7pVoGf4uOYOu",
        "colab_type": "code",
        "colab": {
          "base_uri": "https://localhost:8080/",
          "height": 34
        },
        "outputId": "c7ddc773-27cc-4459-c8c1-fd51bb42c692"
      },
      "source": [
        "df.groupby('type')['rating'].max().get('Music')"
      ],
      "execution_count": null,
      "outputs": [
        {
          "output_type": "execute_result",
          "data": {
            "text/plain": [
              "8.38"
            ]
          },
          "metadata": {
            "tags": []
          },
          "execution_count": 75
        }
      ]
    },
    {
      "cell_type": "markdown",
      "metadata": {
        "id": "QG_j9mTcYXYp",
        "colab_type": "text"
      },
      "source": [
        "Obtener rating promedio de series con 'Sugita, Tomokazu' como parte del 'main_cast'"
      ]
    },
    {
      "cell_type": "code",
      "metadata": {
        "id": "NUiUSwlCYcLt",
        "colab_type": "code",
        "colab": {}
      },
      "source": [
        ""
      ],
      "execution_count": null,
      "outputs": []
    },
    {
      "cell_type": "markdown",
      "metadata": {
        "id": "mHK6jXP8O45V",
        "colab_type": "text"
      },
      "source": [
        "(Bonus) Convierta las columnas genre, main_cast y studios en listas ej. \"Drama,Romance,School,Supernatural\" -> [Drama, Romance, School, Supernatural] "
      ]
    },
    {
      "cell_type": "code",
      "metadata": {
        "id": "_lgbg_8JO6or",
        "colab_type": "code",
        "colab": {
          "base_uri": "https://localhost:8080/",
          "height": 721
        },
        "outputId": "c59a14be-f851-4e3c-b68c-10d9353fbb0e"
      },
      "source": [
        "df['main_cast'] = df['main_cast'].str.strip('()').str.split(';')\n",
        "df['genre'] = df['genre'].str.strip('()').str.split(',')\n",
        "df['studios'] = df['studios'].str.strip('()').str.split(',')\n",
        "\n",
        "df"
      ],
      "execution_count": null,
      "outputs": [
        {
          "output_type": "execute_result",
          "data": {
            "text/html": [
              "<div>\n",
              "<style scoped>\n",
              "    .dataframe tbody tr th:only-of-type {\n",
              "        vertical-align: middle;\n",
              "    }\n",
              "\n",
              "    .dataframe tbody tr th {\n",
              "        vertical-align: top;\n",
              "    }\n",
              "\n",
              "    .dataframe thead th {\n",
              "        text-align: right;\n",
              "    }\n",
              "</style>\n",
              "<table border=\"1\" class=\"dataframe\">\n",
              "  <thead>\n",
              "    <tr style=\"text-align: right;\">\n",
              "      <th></th>\n",
              "      <th>_id</th>\n",
              "      <th>anime_id</th>\n",
              "      <th>c1</th>\n",
              "      <th>c2</th>\n",
              "      <th>episodes</th>\n",
              "      <th>genre</th>\n",
              "      <th>img</th>\n",
              "      <th>main_cast</th>\n",
              "      <th>members</th>\n",
              "      <th>name</th>\n",
              "      <th>rating</th>\n",
              "      <th>source</th>\n",
              "      <th>studios</th>\n",
              "      <th>type</th>\n",
              "    </tr>\n",
              "  </thead>\n",
              "  <tbody>\n",
              "    <tr>\n",
              "      <th>0</th>\n",
              "      <td>589eac5f1bc3ae2c788af112</td>\n",
              "      <td>32281</td>\n",
              "      <td>40</td>\n",
              "      <td>1</td>\n",
              "      <td>1</td>\n",
              "      <td>[Drama, Romance, School, Supernatural]</td>\n",
              "      <td>https://myanimelist.cdn-dena.com/images/anime/...</td>\n",
              "      <td>[Kamishiraishi,Mone, Kamiki,Ryunosuke]</td>\n",
              "      <td>200630</td>\n",
              "      <td>Kimi no Na wa.</td>\n",
              "      <td>9.37</td>\n",
              "      <td>Original</td>\n",
              "      <td>[CoMix Wave Films]</td>\n",
              "      <td>Movie</td>\n",
              "    </tr>\n",
              "    <tr>\n",
              "      <th>1</th>\n",
              "      <td>589eac5f1bc3ae2c788af113</td>\n",
              "      <td>5114</td>\n",
              "      <td>16</td>\n",
              "      <td>1</td>\n",
              "      <td>64</td>\n",
              "      <td>[Action, Adventure, Drama, Fantasy, Magic, Mil...</td>\n",
              "      <td>https://myanimelist.cdn-dena.com/images/anime/...</td>\n",
              "      <td>[Kugimiya,Rie, Park,Romi]</td>\n",
              "      <td>793665</td>\n",
              "      <td>Fullmetal Alchemist: Brotherhood</td>\n",
              "      <td>9.26</td>\n",
              "      <td>Manga</td>\n",
              "      <td>[Bones]</td>\n",
              "      <td>TV</td>\n",
              "    </tr>\n",
              "    <tr>\n",
              "      <th>2</th>\n",
              "      <td>589eac5f1bc3ae2c788af114</td>\n",
              "      <td>28977</td>\n",
              "      <td>26</td>\n",
              "      <td>3</td>\n",
              "      <td>51</td>\n",
              "      <td>[Action, Comedy, Historical, Parody, Samurai, ...</td>\n",
              "      <td>https://myanimelist.cdn-dena.com/images/anime/...</td>\n",
              "      <td>[Kugimiya,Rie, Ishii,Kouji, Sugita,Tomokazu, T...</td>\n",
              "      <td>114262</td>\n",
              "      <td>Gintama°</td>\n",
              "      <td>9.25</td>\n",
              "      <td>Manga</td>\n",
              "      <td>[Bandai Namco Pictures]</td>\n",
              "      <td>TV</td>\n",
              "    </tr>\n",
              "    <tr>\n",
              "      <th>3</th>\n",
              "      <td>589eac5f1bc3ae2c788af115</td>\n",
              "      <td>9253</td>\n",
              "      <td>18</td>\n",
              "      <td>19</td>\n",
              "      <td>24</td>\n",
              "      <td>[Sci-Fi, Thriller]</td>\n",
              "      <td>https://myanimelist.cdn-dena.com/images/anime/...</td>\n",
              "      <td>[Seki,Tomokazu, Imai,Asami, Miyano,Mamoru, Han...</td>\n",
              "      <td>673572</td>\n",
              "      <td>Steins;Gate</td>\n",
              "      <td>9.17</td>\n",
              "      <td>Visualnovel</td>\n",
              "      <td>[White Fox]</td>\n",
              "      <td>TV</td>\n",
              "    </tr>\n",
              "    <tr>\n",
              "      <th>4</th>\n",
              "      <td>589eac5f1bc3ae2c788af116</td>\n",
              "      <td>9969</td>\n",
              "      <td>26</td>\n",
              "      <td>1</td>\n",
              "      <td>51</td>\n",
              "      <td>[Action, Comedy, Historical, Parody, Samurai, ...</td>\n",
              "      <td>https://myanimelist.cdn-dena.com/images/anime/...</td>\n",
              "      <td>[Kugimiya,Rie, Sugita,Tomokazu, Sakaguchi,Dais...</td>\n",
              "      <td>151266</td>\n",
              "      <td>Gintama&amp;#039;</td>\n",
              "      <td>9.16</td>\n",
              "      <td>Manga</td>\n",
              "      <td>[Sunrise]</td>\n",
              "      <td>TV</td>\n",
              "    </tr>\n",
              "    <tr>\n",
              "      <th>...</th>\n",
              "      <td>...</td>\n",
              "      <td>...</td>\n",
              "      <td>...</td>\n",
              "      <td>...</td>\n",
              "      <td>...</td>\n",
              "      <td>...</td>\n",
              "      <td>...</td>\n",
              "      <td>...</td>\n",
              "      <td>...</td>\n",
              "      <td>...</td>\n",
              "      <td>...</td>\n",
              "      <td>...</td>\n",
              "      <td>...</td>\n",
              "      <td>...</td>\n",
              "    </tr>\n",
              "    <tr>\n",
              "      <th>12206</th>\n",
              "      <td>589eb0311bc3ae2c788b20c0</td>\n",
              "      <td>9316</td>\n",
              "      <td>13</td>\n",
              "      <td>1</td>\n",
              "      <td>1</td>\n",
              "      <td>[Hentai]</td>\n",
              "      <td>https://myanimelist.cdn-dena.com/images/anime/...</td>\n",
              "      <td>NaN</td>\n",
              "      <td>211</td>\n",
              "      <td>Toushindai My Lover: Minami tai Mecha-Minami</td>\n",
              "      <td>4.15</td>\n",
              "      <td>NaN</td>\n",
              "      <td>NaN</td>\n",
              "      <td>OVA</td>\n",
              "    </tr>\n",
              "    <tr>\n",
              "      <th>12207</th>\n",
              "      <td>589eb0311bc3ae2c788b20c1</td>\n",
              "      <td>5543</td>\n",
              "      <td>13</td>\n",
              "      <td>1</td>\n",
              "      <td>1</td>\n",
              "      <td>[Hentai]</td>\n",
              "      <td>https://myanimelist.cdn-dena.com/images/anime/...</td>\n",
              "      <td>NaN</td>\n",
              "      <td>183</td>\n",
              "      <td>Under World</td>\n",
              "      <td>4.28</td>\n",
              "      <td>NaN</td>\n",
              "      <td>NaN</td>\n",
              "      <td>OVA</td>\n",
              "    </tr>\n",
              "    <tr>\n",
              "      <th>12208</th>\n",
              "      <td>589eb0311bc3ae2c788b20c2</td>\n",
              "      <td>5621</td>\n",
              "      <td>13</td>\n",
              "      <td>1</td>\n",
              "      <td>4</td>\n",
              "      <td>[Hentai]</td>\n",
              "      <td>https://myanimelist.cdn-dena.com/images/anime/...</td>\n",
              "      <td>NaN</td>\n",
              "      <td>219</td>\n",
              "      <td>Violence Gekiga David no Hoshi</td>\n",
              "      <td>4.88</td>\n",
              "      <td>NaN</td>\n",
              "      <td>NaN</td>\n",
              "      <td>OVA</td>\n",
              "    </tr>\n",
              "    <tr>\n",
              "      <th>12209</th>\n",
              "      <td>589eb0311bc3ae2c788b20c3</td>\n",
              "      <td>6133</td>\n",
              "      <td>13</td>\n",
              "      <td>1</td>\n",
              "      <td>1</td>\n",
              "      <td>[Hentai]</td>\n",
              "      <td>https://myanimelist.cdn-dena.com/images/anime/...</td>\n",
              "      <td>NaN</td>\n",
              "      <td>175</td>\n",
              "      <td>Violence Gekiga Shin David no Hoshi: Inma Dens...</td>\n",
              "      <td>4.98</td>\n",
              "      <td>NaN</td>\n",
              "      <td>NaN</td>\n",
              "      <td>OVA</td>\n",
              "    </tr>\n",
              "    <tr>\n",
              "      <th>12210</th>\n",
              "      <td>589eb0311bc3ae2c788b20c4</td>\n",
              "      <td>26081</td>\n",
              "      <td>13</td>\n",
              "      <td>1</td>\n",
              "      <td>1</td>\n",
              "      <td>[Hentai]</td>\n",
              "      <td>https://myanimelist.cdn-dena.com/images/anime/...</td>\n",
              "      <td>NaN</td>\n",
              "      <td>142</td>\n",
              "      <td>Yasuji no Pornorama: Yacchimae!!</td>\n",
              "      <td>5.46</td>\n",
              "      <td>NaN</td>\n",
              "      <td>NaN</td>\n",
              "      <td>Movie</td>\n",
              "    </tr>\n",
              "  </tbody>\n",
              "</table>\n",
              "<p>12211 rows × 14 columns</p>\n",
              "</div>"
            ],
            "text/plain": [
              "                            _id  anime_id  ...                  studios   type\n",
              "0      589eac5f1bc3ae2c788af112     32281  ...       [CoMix Wave Films]  Movie\n",
              "1      589eac5f1bc3ae2c788af113      5114  ...                  [Bones]     TV\n",
              "2      589eac5f1bc3ae2c788af114     28977  ...  [Bandai Namco Pictures]     TV\n",
              "3      589eac5f1bc3ae2c788af115      9253  ...              [White Fox]     TV\n",
              "4      589eac5f1bc3ae2c788af116      9969  ...                [Sunrise]     TV\n",
              "...                         ...       ...  ...                      ...    ...\n",
              "12206  589eb0311bc3ae2c788b20c0      9316  ...                      NaN    OVA\n",
              "12207  589eb0311bc3ae2c788b20c1      5543  ...                      NaN    OVA\n",
              "12208  589eb0311bc3ae2c788b20c2      5621  ...                      NaN    OVA\n",
              "12209  589eb0311bc3ae2c788b20c3      6133  ...                      NaN    OVA\n",
              "12210  589eb0311bc3ae2c788b20c4     26081  ...                      NaN  Movie\n",
              "\n",
              "[12211 rows x 14 columns]"
            ]
          },
          "metadata": {
            "tags": []
          },
          "execution_count": 105
        }
      ]
    },
    {
      "cell_type": "code",
      "metadata": {
        "id": "gLlEA2PMXdS5",
        "colab_type": "code",
        "colab": {
          "base_uri": "https://localhost:8080/",
          "height": 269
        },
        "outputId": "0679a127-471a-4edb-9793-c4215bd06940"
      },
      "source": [
        "df\n",
        "dataTypeSeries = df.dtypes\n",
        "dataTypeSeries"
      ],
      "execution_count": null,
      "outputs": [
        {
          "output_type": "execute_result",
          "data": {
            "text/plain": [
              "_id           object\n",
              "anime_id       int64\n",
              "c1             int64\n",
              "c2             int64\n",
              "episodes       int64\n",
              "genre         object\n",
              "img           object\n",
              "main_cast     object\n",
              "members        int64\n",
              "name          object\n",
              "rating       float64\n",
              "source        object\n",
              "studios       object\n",
              "type          object\n",
              "dtype: object"
            ]
          },
          "metadata": {
            "tags": []
          },
          "execution_count": 96
        }
      ]
    }
  ]
}